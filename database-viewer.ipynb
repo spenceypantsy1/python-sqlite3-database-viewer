{
 "cells": [
  {
   "cell_type": "markdown",
   "metadata": {},
   "source": [
    "# 📌 **SQLite Database Viewer**  \n",
    "\n",
    "This notebook helps you **view your SQLite database**, its tables, and assign descriptions so you can keep track of them easily. **Very fly like a G6!**\n",
    "\n",
    "🔹 **Instructions:**  \n",
    "- **Modify** the variable **`db`** in **line 3** of the following cell to specify your database.  \n",
    "- Run the first code cell. \n",
    "- Run the following cells below as needed.   \n",
    "  \n",
    "## ⚙️ **Functions Overview**\n",
    "| Function | Description |\n",
    "|----------|------------|\n",
    "| `create_metadata_table()` | Creates a metadata table in your SQLite database to store table descriptions. |\n",
    "| `get_tables()` | Retrieves all tables from the database to be passed into `add_tables_to_metadata()` |\n",
    "| `add_tables_to_metadata()` | Inserts retrieved tables into the metadata table if they don’t already exist. |\n",
    "| `update_table_description('table_name', 'new_description')` | Updates the description of a specific table. Replace `'table_name'` and `'new_description'` accordingly. |\n",
    "| `view_tables_with_descriptions()` | Displays all tables along with their descriptions. |\n",
    "\n",
    "\n",
    "📞 Contact github.com/spenceypantsy1 or theogspencerlin@gmail.com if broken "
   ]
  },
  {
   "cell_type": "code",
   "execution_count": 19,
   "metadata": {},
   "outputs": [],
   "source": [
    "import sqlite3\n",
    "\n",
    "db = \"REPLACE WITH YOUR OWN DB\"\n",
    "\n",
    "conn = sqlite3.connect(db)\n",
    "cursor = conn.cursor()\n",
    "\n",
    "\n",
    "# Function to create metadata table IF NOT EXISTS.\n",
    "def create_metadata_table():\n",
    "    cursor.execute('''\n",
    "        CREATE TABLE IF NOT EXISTS table_metadata (\n",
    "            table_name TEXT PRIMARY KEY,\n",
    "            description TEXT\n",
    "        )\n",
    "    ''')\n",
    "    conn.commit()\n",
    "\n",
    "\n",
    "# Function to retrieve all tables from the database.\n",
    "def get_tables():\n",
    "    cursor.execute(\"SELECT name FROM sqlite_master WHERE type='table' AND name NOT LIKE 'sqlite_%';\")\n",
    "    tables = [row[0] for row in cursor.fetchall()]\n",
    "    return tables\n",
    "\n",
    "\n",
    "# Function to add all tables to metadata table\n",
    "def add_tables_to_metadata():\n",
    "    tables = get_tables()\n",
    "    for table in tables:\n",
    "        cursor.execute(\"INSERT OR IGNORE INTO table_metadata (table_name, description) VALUES (?, ?)\", (table, \"No description\"))\n",
    "    \n",
    "    conn.commit()\n",
    "\n",
    "\n",
    "# Function to update description of table in metadata table\n",
    "def update_table_description(table_name, new_description):\n",
    "    cursor.execute(\"UPDATE table_metadata SET description = ? WHERE table_name = ?\", (new_description, table_name))\n",
    "    conn.commit()\n",
    "\n",
    "\n",
    "# View table skibidi\n",
    "def view_tables_with_descriptions():\n",
    "    cursor.execute(\"SELECT table_name, description FROM table_metadata\")\n",
    "    tables = cursor.fetchall()\n",
    "    \n",
    "    print(\"\\nTables in Database:\")\n",
    "    print(\"-\" * 40)\n",
    "    for table, desc in tables:\n",
    "        print(f\"{table.ljust(20)} | {desc}\")\n",
    "    print(\"-\" * 40)\n"
   ]
  },
  {
   "cell_type": "markdown",
   "metadata": {},
   "source": [
    "## ✅ **Viewing tables**"
   ]
  },
  {
   "cell_type": "code",
   "execution_count": 20,
   "metadata": {},
   "outputs": [
    {
     "name": "stdout",
     "output_type": "stream",
     "text": [
      "\n",
      "Tables in Database:\n",
      "----------------------------------------\n",
      "table_metadata       | No description\n",
      "----------------------------------------\n"
     ]
    }
   ],
   "source": [
    "# Run to view\n",
    "create_metadata_table()\n",
    "add_tables_to_metadata()\n",
    "view_tables_with_descriptions()"
   ]
  },
  {
   "cell_type": "markdown",
   "metadata": {},
   "source": [
    "## 📝 **Updating table descriptions**"
   ]
  },
  {
   "cell_type": "code",
   "execution_count": 23,
   "metadata": {},
   "outputs": [
    {
     "name": "stdout",
     "output_type": "stream",
     "text": [
      "\n",
      "Tables in Database:\n",
      "----------------------------------------\n",
      "table_metadata       | This is the metadata table you're viewing.\n",
      "----------------------------------------\n"
     ]
    }
   ],
   "source": [
    "# Run to update description of any table\n",
    "update_table_description(\"table_metadata\", \"This is the metadata table you're viewing.\")\n",
    "view_tables_with_descriptions()"
   ]
  }
 ],
 "metadata": {
  "kernelspec": {
   "display_name": "Python 3",
   "language": "python",
   "name": "python3"
  },
  "language_info": {
   "codemirror_mode": {
    "name": "ipython",
    "version": 3
   },
   "file_extension": ".py",
   "mimetype": "text/x-python",
   "name": "python",
   "nbconvert_exporter": "python",
   "pygments_lexer": "ipython3",
   "version": "3.12.4"
  }
 },
 "nbformat": 4,
 "nbformat_minor": 2
}
